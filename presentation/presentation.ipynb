{
 "cells": [
  {
   "cell_type": "code",
   "execution_count": 1,
   "outputs": [],
   "source": [
    "import pandas as pd\n",
    "import numpy as np\n",
    "import matplotlib.pyplot as plt\n",
    "plt.style.use('ggplot')\n",
    "from IPython.display import Markdown\n",
    "# from ipy_table import * "
   ],
   "metadata": {
    "collapsed": false,
    "pycharm": {
     "name": "#%%\n",
     "is_executing": false
    }
   }
  },
  {
   "cell_type": "markdown",
   "source": [],
   "metadata": {
    "collapsed": false
   }
  },
  {
   "cell_type": "markdown",
   "metadata": {
    "collapsed": true,
    "pycharm": {
     "name": "#%% md\n"
    }
   },
   "source": [
    "The problem: tracking animal and predicting location based on video frame/feed.\n",
    "* long term: tracking and discriminating between similarly shaped but visually different targets\n",
    "    * example: 3 guinea pigs (add pics?)\n",
    "\n",
    "The solution:\n",
    "* Train CNN with each individual target\n",
    "    * track all rabbits/guinea pigs to:\n",
    "    * track this specific trained subject/target\n",
    "        * link tracking data to specific trained user\n",
    "\n",
    "The approach:\n",
    "* isolate subject\n",
    "* Scan with camera and thermal camera simultaneously\n",
    "    * thermal cam is generating our target data\n",
    "        * note this isn't what we're actually trying to predict!\n",
    "    * Each video frame is our predictors\n",
    "    \n",
    "The underlying idea:\n",
    "\n",
    "* We want to predict location ( $y_{want}$)\n",
    "    * this is hard (read: annoying) to measure\n",
    "* Second dependent variable that is highly correlated to $y_{want}$\n",
    "    * easily measured **but** impractical to implement \n",
    "        * low resolution, limited range, high cost, only good at measuring heat\n",
    "    * Able to be used in a contrived situation that compensates/side-steps the limitations\n",
    "# TODO: Graph of example toy scatter data with green actual and red easy\n",
    "    * photo of cinnabun, location circle (green) and heat map\n",
    "    "
   ]
  },
  {
   "cell_type": "code",
   "execution_count": 42,
   "outputs": [
    {
     "data": {
      "text/plain": "<matplotlib.legend.Legend at 0x7f200d29a910>"
     },
     "metadata": {},
     "output_type": "execute_result",
     "execution_count": 42
    },
    {
     "data": {
      "text/plain": "<Figure size 864x576 with 1 Axes>",
      "image/png": "[encoded data removed]"
     },
     "metadata": {
      "needs_background": "light"
     },
     "output_type": "display_data"
    }
   ],
   "source": [
    "x = np.linspace(.3, .7, 10)\n",
    "y_want = x + np.random.normal(scale=.05, size=10)\n",
    "y_easy = y_want + np.random.normal(scale=0.01, size=10)\n",
    "\n",
    "fig, axs = plt.subplots(figsize=(12,8))\n",
    "axs.scatter(x, y_want, color='green', label=\"desired prediction\")\n",
    "axs.scatter(x, y_easy, color='red', label=\"easy to measure prediction\", marker='x')\n",
    "axs.set_ylim(bottom=0, top=1)\n",
    "axs.set_xlim(left=0, right=1)\n",
    "axs.set_title('Toy example')\n",
    "axs.legend()"
   ],
   "metadata": {
    "collapsed": false,
    "pycharm": {
     "name": "#%%\n",
     "is_executing": false
    }
   }
  },
  {
   "cell_type": "code",
   "execution_count": 32,
   "outputs": [],
   "source": [],
   "metadata": {
    "collapsed": false,
    "pycharm": {
     "name": "#%%\n",
     "is_executing": false
    }
   }
  },
  {
   "cell_type": "code",
   "execution_count": null,
   "outputs": [],
   "source": [
    "\n"
   ],
   "metadata": {
    "collapsed": false,
    "pycharm": {
     "name": "#%%\n"
    }
   }
  }
 ],
 "metadata": {
  "kernelspec": {
   "display_name": "Python 3",
   "language": "python",
   "name": "python3"
  },
  "language_info": {
   "codemirror_mode": {
    "name": "ipython",
    "version": 2
   },
   "file_extension": ".py",
   "mimetype": "text/x-python",
   "name": "python",
   "nbconvert_exporter": "python",
   "pygments_lexer": "ipython2",
   "version": "2.7.6"
  },
  "pycharm": {
   "stem_cell": {
    "cell_type": "raw",
    "source": [],
    "metadata": {
     "collapsed": false
    }
   }
  }
 },
 "nbformat": 4,
 "nbformat_minor": 0
}